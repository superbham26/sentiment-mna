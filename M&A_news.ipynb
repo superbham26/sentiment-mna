{
 "cells": [
  {
   "cell_type": "code",
   "execution_count": 59,
   "metadata": {},
   "outputs": [],
   "source": [
    "import pysentiment2 as py\n",
    "import pandas as pd"
   ]
  },
  {
   "cell_type": "code",
   "execution_count": 60,
   "metadata": {},
   "outputs": [],
   "source": [
    "#data = the file with all deal info"
   ]
  },
  {
   "cell_type": "code",
   "execution_count": 64,
   "metadata": {},
   "outputs": [],
   "source": [
    "hiv4 = py.HIV4()\n",
    "import nltk\n",
    "#Remove all stopwords\n",
    "from nltk.corpus import stopwords\n",
    "stop = stopwords.words('english')\n",
    "data['News'] = data['News'].apply(lambda x: \" \".join(x for x in x.split() if x not in stop))"
   ]
  },
  {
   "cell_type": "code",
   "execution_count": 65,
   "metadata": {},
   "outputs": [],
   "source": [
    "data['sentiment']=data['News'].apply(lambda x: hiv4.get_score(hiv4.tokenize(x)))"
   ]
  },
  {
   "cell_type": "code",
   "execution_count": 66,
   "metadata": {},
   "outputs": [],
   "source": [
    "data['sentiment'].iloc[0].keys()\n",
    "data['postive']=data['sentiment'].apply(lambda x: x['Positive'])\n",
    "data['negative']=data['sentiment'].apply(lambda x: x['Negative'])\n",
    "data['polarity']=data['sentiment'].apply(lambda x: x['Polarity'])"
   ]
  },
  {
   "cell_type": "code",
   "execution_count": 68,
   "metadata": {},
   "outputs": [],
   "source": [
    "import statsmodels.api as sm\n",
    "import statsmodels.formula.api as smf\n",
    "x=data['polarity']\n",
    "result = smf.ols(formula='polarity ~ postive + negative', data=data).fit()"
   ]
  },
  {
   "cell_type": "code",
   "execution_count": 70,
   "metadata": {},
   "outputs": [
    {
     "name": "stdout",
     "output_type": "stream",
     "text": [
      "polarity    15.389692\n",
      "dtype: float64\n"
     ]
    },
    {
     "data": {
      "text/plain": [
       "<matplotlib.collections.PathCollection at 0x292bd6cfa10>"
      ]
     },
     "execution_count": 70,
     "metadata": {},
     "output_type": "execute_result"
    },
    {
     "data": {
      "image/png": "[encoded data removed]",
      "text/plain": [
       "<Figure size 640x480 with 1 Axes>"
      ]
     },
     "metadata": {},
     "output_type": "display_data"
    }
   ],
   "source": [
    "print(results.params)\n",
    " \n",
    "import matplotlib.pyplot as plt\n",
    "plt.scatter(x,data['Stock Price Change']*100)\n"
   ]
  },
  {
   "cell_type": "code",
   "execution_count": 71,
   "metadata": {},
   "outputs": [
    {
     "name": "stdout",
     "output_type": "stream",
     "text": [
      "F_onewayResult(statistic=0.2085802578767678, pvalue=0.9336370235210099)\n"
     ]
    }
   ],
   "source": [
    "group1=data[data['Acquiror Macro Industry'].isin(['Consumer Staples','Consumer Products and Services','Retail'])]\n",
    "group2=data[data['Acquiror Macro Industry'].isin(['Financial Services','Real Estate'])]\n",
    "group3=data[data['Acquiror Macro Industry'].isin(['Industrials','Energy and Power','Materials'])]\n",
    "group4=data[data['Acquiror Macro Industry'].isin(['High Technology','Telecommunications','Media and Entertainment'])]\n",
    "group5=data[data['Acquiror Macro Industry'].isin(['Healthcare'])]\n",
    "#now do an anove test to see if the stock price percentage change is common across all industry\n",
    "import scipy.stats as stats\n",
    "result=stats.f_oneway(group1['Stock Price Change'],group2['Stock Price Change'],group3['Stock Price Change'],group4['Stock Price Change'],group5['Stock Price Change'])\n",
    "print(result)\n"
   ]
  },
  {
   "cell_type": "code",
   "execution_count": 72,
   "metadata": {},
   "outputs": [
    {
     "name": "stdout",
     "output_type": "stream",
     "text": [
      "Multiple Comparison of Means - Tukey HSD, FWER=0.05\n",
      "===================================================\n",
      "group1 group2 meandiff p-adj   lower  upper  reject\n",
      "---------------------------------------------------\n",
      "Group1 Group2  -0.0735 0.9902 -0.5043 0.3573  False\n",
      "Group1 Group3   -0.016 0.9984 -0.1656 0.1336  False\n",
      "Group1 Group4  -0.0072 0.9999 -0.1648 0.1503  False\n",
      "Group1 Group5   -0.043 0.9518 -0.2065 0.1205  False\n",
      "Group2 Group3   0.0575 0.9958 -0.3617 0.4767  False\n",
      "Group2 Group4   0.0662 0.9929 -0.3558 0.4883  False\n",
      "Group2 Group5   0.0305 0.9997 -0.3938 0.4548  False\n",
      "Group3 Group4   0.0087 0.9997 -0.1134 0.1309  False\n",
      "Group3 Group5   -0.027 0.9793 -0.1567 0.1027  False\n",
      "Group4 Group5  -0.0358 0.9552 -0.1746 0.1031  False\n",
      "---------------------------------------------------\n"
     ]
    }
   ],
   "source": [
    "from statsmodels.stats.multicomp import pairwise_tukeyhsd\n",
    "\n",
    "all_data = pd.concat([group1['Stock Price Change'], group2['Stock Price Change'],\n",
    "                      group3['Stock Price Change'], group4['Stock Price Change'],\n",
    "                      group5['Stock Price Change']])\n",
    "\n",
    "group_labels = ['Group1'] * len(group1) + ['Group2'] * len(group2) + ['Group3'] * len(group3) + ['Group4'] * len(group4) + ['Group5'] * len(group5)\n",
    "tukey_results = pairwise_tukeyhsd(all_data, group_labels)\n",
    "print(tukey_results.summary())\n"
   ]
  }
 ],
 "metadata": {
  "kernelspec": {
   "display_name": "base",
   "language": "python",
   "name": "python3"
  },
  "language_info": {
   "codemirror_mode": {
    "name": "ipython",
    "version": 3
   },
   "file_extension": ".py",
   "mimetype": "text/x-python",
   "name": "python",
   "nbconvert_exporter": "python",
   "pygments_lexer": "ipython3",
   "version": "3.11.4"
  }
 },
 "nbformat": 4,
 "nbformat_minor": 2
}
